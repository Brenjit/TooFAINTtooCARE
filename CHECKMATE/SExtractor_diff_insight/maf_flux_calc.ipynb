{
 "cells": [
  {
   "cell_type": "code",
   "execution_count": 2,
   "id": "3183742c",
   "metadata": {},
   "outputs": [
    {
     "name": "stdout",
     "output_type": "stream",
     "text": [
      "Flux changes by a factor of: 0.963829\n",
      "That is a decrease of 3.62%\n"
     ]
    }
   ],
   "source": [
    "import numpy as np\n",
    "\n",
    "delta_mag = 0.04\n",
    "flux_change_ratio = 10**(-0.4 * delta_mag)\n",
    "print(f\"Flux changes by a factor of: {flux_change_ratio:.6f}\")\n",
    "print(f\"That is a decrease of {100*(1 - flux_change_ratio):.2f}%\")\n"
   ]
  },
  {
   "cell_type": "code",
   "execution_count": null,
   "id": "925ab4e5",
   "metadata": {},
   "outputs": [],
   "source": []
  }
 ],
 "metadata": {
  "kernelspec": {
   "display_name": "base",
   "language": "python",
   "name": "python3"
  },
  "language_info": {
   "codemirror_mode": {
    "name": "ipython",
    "version": 3
   },
   "file_extension": ".py",
   "mimetype": "text/x-python",
   "name": "python",
   "nbconvert_exporter": "python",
   "pygments_lexer": "ipython3",
   "version": "3.11.5"
  }
 },
 "nbformat": 4,
 "nbformat_minor": 5
}
